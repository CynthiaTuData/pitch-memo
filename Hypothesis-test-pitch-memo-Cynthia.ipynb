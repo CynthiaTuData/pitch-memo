{
 "cells": [
  {
   "cell_type": "code",
   "execution_count": 41,
   "id": "6d3a46d1",
   "metadata": {},
   "outputs": [
    {
     "name": "stdout",
     "output_type": "stream",
     "text": [
      "The rpy2.ipython extension is already loaded. To reload it, use:\n",
      "  %reload_ext rpy2.ipython\n",
      "The autoreload extension is already loaded. To reload it, use:\n",
      "  %reload_ext autoreload\n"
     ]
    }
   ],
   "source": [
    "%load_ext rpy2.ipython\n",
    "%load_ext autoreload\n",
    "%autoreload 2\n",
    "\n",
    "%matplotlib inline  \n",
    "from matplotlib import rcParams\n",
    "rcParams['figure.figsize'] = (8, 8)\n",
    "\n",
    "import warnings\n",
    "from rpy2.rinterface import RRuntimeWarning\n",
    "warnings.filterwarnings(\"ignore\") # Ignore all warnings\n",
    "# warnings.filterwarnings(\"ignore\", category=RRuntimeWarning) # Show some warnings\n",
    "\n",
    "import pandas as pd\n",
    "import numpy as np\n",
    "import matplotlib.pyplot as plt\n",
    "from IPython.display import display, HTML"
   ]
  },
  {
   "cell_type": "code",
   "execution_count": 42,
   "id": "b2183e72",
   "metadata": {},
   "outputs": [
    {
     "data": {
      "application/javascript": [
       "// Disable auto-scrolling\n",
       "IPython.OutputArea.prototype._should_scroll = function(lines) {\n",
       "    return false;\n",
       "}\n"
      ],
      "text/plain": [
       "<IPython.core.display.Javascript object>"
      ]
     },
     "metadata": {},
     "output_type": "display_data"
    }
   ],
   "source": [
    "%%javascript\n",
    "// Disable auto-scrolling\n",
    "IPython.OutputArea.prototype._should_scroll = function(lines) {\n",
    "    return false;\n",
    "}"
   ]
  },
  {
   "cell_type": "code",
   "execution_count": 81,
   "id": "762318a8",
   "metadata": {},
   "outputs": [],
   "source": [
    "%%R\n",
    "\n",
    "require('tidyverse')\n",
    "require(\"emojifont\")\n",
    "require(\"ggrepel\")\n",
    "require(\"ggtext\")\n",
    "require(\"ggforce\")\n",
    "source('functions.R')"
   ]
  },
  {
   "cell_type": "markdown",
   "id": "ff6b56bd",
   "metadata": {},
   "source": [
    "### My Hypothesis Question: \n",
    "**Do white Grammys nominees stand a higher chance of winning than nominees of color?**\n"
   ]
  },
  {
   "cell_type": "code",
   "execution_count": 82,
   "id": "9f93b74a",
   "metadata": {
    "scrolled": true
   },
   "outputs": [
    {
     "data": {
      "text/html": [
       "<div>\n",
       "<style scoped>\n",
       "    .dataframe tbody tr th:only-of-type {\n",
       "        vertical-align: middle;\n",
       "    }\n",
       "\n",
       "    .dataframe tbody tr th {\n",
       "        vertical-align: top;\n",
       "    }\n",
       "\n",
       "    .dataframe thead th {\n",
       "        text-align: right;\n",
       "    }\n",
       "</style>\n",
       "<table border=\"1\" class=\"dataframe\">\n",
       "  <thead>\n",
       "    <tr style=\"text-align: right;\">\n",
       "      <th></th>\n",
       "      <th>id</th>\n",
       "      <th>year</th>\n",
       "      <th>work</th>\n",
       "      <th>category</th>\n",
       "      <th>status</th>\n",
       "      <th>cleaned_musician</th>\n",
       "      <th>ethnicity</th>\n",
       "      <th>status/ethnicity</th>\n",
       "      <th>total_percentage</th>\n",
       "    </tr>\n",
       "  </thead>\n",
       "  <tbody>\n",
       "    <tr>\n",
       "      <th>0</th>\n",
       "      <td>1</td>\n",
       "      <td>2022</td>\n",
       "      <td>We Are</td>\n",
       "      <td>album-of-the-year</td>\n",
       "      <td>winner</td>\n",
       "      <td>Jon Batiste</td>\n",
       "      <td>UR</td>\n",
       "      <td>UR winner</td>\n",
       "      <td>0.666667</td>\n",
       "    </tr>\n",
       "    <tr>\n",
       "      <th>1</th>\n",
       "      <td>2</td>\n",
       "      <td>2022</td>\n",
       "      <td>Love for Sale</td>\n",
       "      <td>album-of-the-year</td>\n",
       "      <td>nominee</td>\n",
       "      <td>Tony Bennett  Lady Gaga</td>\n",
       "      <td>white</td>\n",
       "      <td>white nominee</td>\n",
       "      <td>0.666667</td>\n",
       "    </tr>\n",
       "    <tr>\n",
       "      <th>2</th>\n",
       "      <td>3</td>\n",
       "      <td>2022</td>\n",
       "      <td>Justice</td>\n",
       "      <td>album-of-the-year</td>\n",
       "      <td>nominee</td>\n",
       "      <td>Justin Bieber</td>\n",
       "      <td>white</td>\n",
       "      <td>white nominee</td>\n",
       "      <td>0.666667</td>\n",
       "    </tr>\n",
       "    <tr>\n",
       "      <th>3</th>\n",
       "      <td>4</td>\n",
       "      <td>2022</td>\n",
       "      <td>Planet Her</td>\n",
       "      <td>album-of-the-year</td>\n",
       "      <td>nominee</td>\n",
       "      <td>Doja Cat</td>\n",
       "      <td>UR</td>\n",
       "      <td>UR nominee</td>\n",
       "      <td>0.666667</td>\n",
       "    </tr>\n",
       "    <tr>\n",
       "      <th>4</th>\n",
       "      <td>5</td>\n",
       "      <td>2022</td>\n",
       "      <td>Happier Than Ever</td>\n",
       "      <td>album-of-the-year</td>\n",
       "      <td>nominee</td>\n",
       "      <td>Billie Eilish</td>\n",
       "      <td>white</td>\n",
       "      <td>white nominee</td>\n",
       "      <td>0.666667</td>\n",
       "    </tr>\n",
       "  </tbody>\n",
       "</table>\n",
       "</div>"
      ],
      "text/plain": [
       "   id  year               work           category   status  \\\n",
       "0   1  2022             We Are  album-of-the-year   winner   \n",
       "1   2  2022      Love for Sale  album-of-the-year  nominee   \n",
       "2   3  2022            Justice  album-of-the-year  nominee   \n",
       "3   4  2022         Planet Her  album-of-the-year  nominee   \n",
       "4   5  2022  Happier Than Ever  album-of-the-year  nominee   \n",
       "\n",
       "          cleaned_musician ethnicity status/ethnicity  total_percentage  \n",
       "0              Jon Batiste        UR        UR winner          0.666667  \n",
       "1  Tony Bennett  Lady Gaga     white    white nominee          0.666667  \n",
       "2            Justin Bieber     white    white nominee          0.666667  \n",
       "3                 Doja Cat        UR       UR nominee          0.666667  \n",
       "4            Billie Eilish     white    white nominee          0.666667  "
      ]
     },
     "execution_count": 82,
     "metadata": {},
     "output_type": "execute_result"
    }
   ],
   "source": [
    "# Import data\n",
    "df = pd.read_csv(\"musicians-matched.csv\")\n",
    "df = df[['id','year','work','category','status','cleaned_musician','ethnicity','status/ethnicity','total_percentage']]\n",
    "df.head()"
   ]
  },
  {
   "cell_type": "markdown",
   "id": "88dbc077",
   "metadata": {},
   "source": [
    "### 1. Exploratory Analysis"
   ]
  },
  {
   "cell_type": "code",
   "execution_count": 90,
   "id": "5ed64d9f",
   "metadata": {
    "scrolled": true
   },
   "outputs": [
    {
     "data": {
      "text/html": [
       "<div>\n",
       "<style scoped>\n",
       "    .dataframe tbody tr th:only-of-type {\n",
       "        vertical-align: middle;\n",
       "    }\n",
       "\n",
       "    .dataframe tbody tr th {\n",
       "        vertical-align: top;\n",
       "    }\n",
       "\n",
       "    .dataframe thead th {\n",
       "        text-align: right;\n",
       "    }\n",
       "</style>\n",
       "<table border=\"1\" class=\"dataframe\">\n",
       "  <thead>\n",
       "    <tr style=\"text-align: right;\">\n",
       "      <th></th>\n",
       "      <th>status</th>\n",
       "      <th>nominee</th>\n",
       "      <th>winner</th>\n",
       "      <th>total</th>\n",
       "      <th>chance</th>\n",
       "    </tr>\n",
       "    <tr>\n",
       "      <th>category</th>\n",
       "      <th>ethnicity</th>\n",
       "      <th></th>\n",
       "      <th></th>\n",
       "      <th></th>\n",
       "      <th></th>\n",
       "    </tr>\n",
       "  </thead>\n",
       "  <tbody>\n",
       "    <tr>\n",
       "      <th rowspan=\"2\" valign=\"top\">album-of-the-year</th>\n",
       "      <th>UR</th>\n",
       "      <td>63</td>\n",
       "      <td>11</td>\n",
       "      <td>74</td>\n",
       "      <td>0.148649</td>\n",
       "    </tr>\n",
       "    <tr>\n",
       "      <th>white</th>\n",
       "      <td>92</td>\n",
       "      <td>23</td>\n",
       "      <td>115</td>\n",
       "      <td>0.200000</td>\n",
       "    </tr>\n",
       "    <tr>\n",
       "      <th rowspan=\"2\" valign=\"top\">best-new-artist</th>\n",
       "      <th>UR</th>\n",
       "      <td>70</td>\n",
       "      <td>13</td>\n",
       "      <td>83</td>\n",
       "      <td>0.156627</td>\n",
       "    </tr>\n",
       "    <tr>\n",
       "      <th>white</th>\n",
       "      <td>85</td>\n",
       "      <td>21</td>\n",
       "      <td>106</td>\n",
       "      <td>0.198113</td>\n",
       "    </tr>\n",
       "    <tr>\n",
       "      <th rowspan=\"2\" valign=\"top\">record-of-the-year</th>\n",
       "      <th>UR</th>\n",
       "      <td>79</td>\n",
       "      <td>11</td>\n",
       "      <td>90</td>\n",
       "      <td>0.122222</td>\n",
       "    </tr>\n",
       "    <tr>\n",
       "      <th>white</th>\n",
       "      <td>77</td>\n",
       "      <td>23</td>\n",
       "      <td>100</td>\n",
       "      <td>0.230000</td>\n",
       "    </tr>\n",
       "  </tbody>\n",
       "</table>\n",
       "</div>"
      ],
      "text/plain": [
       "status                        nominee  winner  total    chance\n",
       "category           ethnicity                                  \n",
       "album-of-the-year  UR              63      11     74  0.148649\n",
       "                   white           92      23    115  0.200000\n",
       "best-new-artist    UR              70      13     83  0.156627\n",
       "                   white           85      21    106  0.198113\n",
       "record-of-the-year UR              79      11     90  0.122222\n",
       "                   white           77      23    100  0.230000"
      ]
     },
     "execution_count": 90,
     "metadata": {},
     "output_type": "execute_result"
    }
   ],
   "source": [
    "# a pivot table to lookup chance of winning by category\n",
    "\n",
    "pivot = pd.pivot_table(df, values='id', \n",
    "                            index=['category','ethnicity'], \n",
    "                            columns='status', \n",
    "                            aggfunc='count',\n",
    "                            fill_value=0)\n",
    "\n",
    "pivot['total'] = pivot['nominee']+pivot['winner']\n",
    "pivot['chance'] = pivot['winner']/pivot['total']\n",
    "\n",
    "# pivot.reset_index(inplace=True)\n",
    "pivot"
   ]
  },
  {
   "cell_type": "code",
   "execution_count": 92,
   "id": "c78cf40f",
   "metadata": {},
   "outputs": [
    {
     "data": {
      "text/html": [
       "<div>\n",
       "<style scoped>\n",
       "    .dataframe tbody tr th:only-of-type {\n",
       "        vertical-align: middle;\n",
       "    }\n",
       "\n",
       "    .dataframe tbody tr th {\n",
       "        vertical-align: top;\n",
       "    }\n",
       "\n",
       "    .dataframe thead th {\n",
       "        text-align: right;\n",
       "    }\n",
       "</style>\n",
       "<table border=\"1\" class=\"dataframe\">\n",
       "  <thead>\n",
       "    <tr style=\"text-align: right;\">\n",
       "      <th></th>\n",
       "      <th>category</th>\n",
       "      <th>UR</th>\n",
       "      <th>white</th>\n",
       "    </tr>\n",
       "  </thead>\n",
       "  <tbody>\n",
       "    <tr>\n",
       "      <th>0</th>\n",
       "      <td>album-of-the-year</td>\n",
       "      <td>0.15</td>\n",
       "      <td>0.20</td>\n",
       "    </tr>\n",
       "    <tr>\n",
       "      <th>1</th>\n",
       "      <td>best-new-artist</td>\n",
       "      <td>0.16</td>\n",
       "      <td>0.20</td>\n",
       "    </tr>\n",
       "    <tr>\n",
       "      <th>2</th>\n",
       "      <td>record-of-the-year</td>\n",
       "      <td>0.12</td>\n",
       "      <td>0.23</td>\n",
       "    </tr>\n",
       "  </tbody>\n",
       "</table>\n",
       "</div>"
      ],
      "text/plain": [
       "             category    UR  white\n",
       "0   album-of-the-year  0.15   0.20\n",
       "1     best-new-artist  0.16   0.20\n",
       "2  record-of-the-year  0.12   0.23"
      ]
     },
     "execution_count": 92,
     "metadata": {},
     "output_type": "execute_result"
    }
   ],
   "source": [
    "data = [['album-of-the-year',0.15,0.2],['best-new-artist',0.16,0.2],['record-of-the-year',0.12,0.23]]\n",
    "\n",
    "pivot_test = pd.DataFrame(data, columns=['category','UR','white'])\n",
    "pivot_test"
   ]
  },
  {
   "cell_type": "code",
   "execution_count": 80,
   "id": "5c912c81",
   "metadata": {},
   "outputs": [
    {
     "data": {
      "text/html": [
       "<div>\n",
       "<style scoped>\n",
       "    .dataframe tbody tr th:only-of-type {\n",
       "        vertical-align: middle;\n",
       "    }\n",
       "\n",
       "    .dataframe tbody tr th {\n",
       "        vertical-align: top;\n",
       "    }\n",
       "\n",
       "    .dataframe thead th {\n",
       "        text-align: right;\n",
       "    }\n",
       "</style>\n",
       "<table border=\"1\" class=\"dataframe\">\n",
       "  <thead>\n",
       "    <tr style=\"text-align: right;\">\n",
       "      <th>ethnicity</th>\n",
       "      <th>year</th>\n",
       "      <th>UR</th>\n",
       "      <th>white</th>\n",
       "    </tr>\n",
       "  </thead>\n",
       "  <tbody>\n",
       "    <tr>\n",
       "      <th>0</th>\n",
       "      <td>1990</td>\n",
       "      <td>6</td>\n",
       "      <td>9</td>\n",
       "    </tr>\n",
       "    <tr>\n",
       "      <th>1</th>\n",
       "      <td>1991</td>\n",
       "      <td>6</td>\n",
       "      <td>9</td>\n",
       "    </tr>\n",
       "    <tr>\n",
       "      <th>2</th>\n",
       "      <td>1992</td>\n",
       "      <td>6</td>\n",
       "      <td>9</td>\n",
       "    </tr>\n",
       "    <tr>\n",
       "      <th>3</th>\n",
       "      <td>1993</td>\n",
       "      <td>5</td>\n",
       "      <td>10</td>\n",
       "    </tr>\n",
       "    <tr>\n",
       "      <th>4</th>\n",
       "      <td>1994</td>\n",
       "      <td>5</td>\n",
       "      <td>10</td>\n",
       "    </tr>\n",
       "  </tbody>\n",
       "</table>\n",
       "</div>"
      ],
      "text/plain": [
       "ethnicity  year  UR  white\n",
       "0          1990   6      9\n",
       "1          1991   6      9\n",
       "2          1992   6      9\n",
       "3          1993   5     10\n",
       "4          1994   5     10"
      ]
     },
     "execution_count": 80,
     "metadata": {},
     "output_type": "execute_result"
    }
   ],
   "source": [
    "# Calculate chance of winning by year\n",
    "all_years = pd.pivot_table(df, values='id', \n",
    "                                index='year', \n",
    "                                columns='ethnicity', \n",
    "                                aggfunc='count',\n",
    "                                fill_value=0)\n",
    "\n",
    "all_years.reset_index(inplace=True)\n",
    "all_years.head()"
   ]
  },
  {
   "cell_type": "code",
   "execution_count": 47,
   "id": "a87b44ea",
   "metadata": {},
   "outputs": [
    {
     "data": {
      "image/png": "[encoded data removed]"
     },
     "metadata": {},
     "output_type": "display_data"
    }
   ],
   "source": [
    "%%R -i df\n",
    "\n",
    "# UR artists' chance of winning across all 3 categories over the years.\n",
    "ggplot(df,aes(y=total_percentage,x=year))+\n",
    "    geom_line()+\n",
    "    theme_minimal()"
   ]
  },
  {
   "cell_type": "code",
   "execution_count": 71,
   "id": "755c0041",
   "metadata": {},
   "outputs": [
    {
     "data": {
      "text/html": [
       "<div>\n",
       "<style scoped>\n",
       "    .dataframe tbody tr th:only-of-type {\n",
       "        vertical-align: middle;\n",
       "    }\n",
       "\n",
       "    .dataframe tbody tr th {\n",
       "        vertical-align: top;\n",
       "    }\n",
       "\n",
       "    .dataframe thead th {\n",
       "        text-align: right;\n",
       "    }\n",
       "</style>\n",
       "<table border=\"1\" class=\"dataframe\">\n",
       "  <thead>\n",
       "    <tr style=\"text-align: right;\">\n",
       "      <th>status</th>\n",
       "      <th>cleaned_musician</th>\n",
       "      <th>ethnicity</th>\n",
       "      <th>nominee</th>\n",
       "      <th>winner</th>\n",
       "      <th>total</th>\n",
       "      <th>chance</th>\n",
       "    </tr>\n",
       "  </thead>\n",
       "  <tbody>\n",
       "    <tr>\n",
       "      <th>0</th>\n",
       "      <td>50 Cent</td>\n",
       "      <td>UR</td>\n",
       "      <td>1</td>\n",
       "      <td>0</td>\n",
       "      <td>1</td>\n",
       "      <td>0.000</td>\n",
       "    </tr>\n",
       "    <tr>\n",
       "      <th>1</th>\n",
       "      <td>Abba</td>\n",
       "      <td>white</td>\n",
       "      <td>3</td>\n",
       "      <td>0</td>\n",
       "      <td>3</td>\n",
       "      <td>0.000</td>\n",
       "    </tr>\n",
       "    <tr>\n",
       "      <th>2</th>\n",
       "      <td>Ace of Base</td>\n",
       "      <td>white</td>\n",
       "      <td>1</td>\n",
       "      <td>0</td>\n",
       "      <td>1</td>\n",
       "      <td>0.000</td>\n",
       "    </tr>\n",
       "    <tr>\n",
       "      <th>3</th>\n",
       "      <td>Adele</td>\n",
       "      <td>white</td>\n",
       "      <td>3</td>\n",
       "      <td>5</td>\n",
       "      <td>8</td>\n",
       "      <td>0.625</td>\n",
       "    </tr>\n",
       "    <tr>\n",
       "      <th>4</th>\n",
       "      <td>Alabama Shakes</td>\n",
       "      <td>UR</td>\n",
       "      <td>2</td>\n",
       "      <td>0</td>\n",
       "      <td>2</td>\n",
       "      <td>0.000</td>\n",
       "    </tr>\n",
       "    <tr>\n",
       "      <th>...</th>\n",
       "      <td>...</td>\n",
       "      <td>...</td>\n",
       "      <td>...</td>\n",
       "      <td>...</td>\n",
       "      <td>...</td>\n",
       "      <td>...</td>\n",
       "    </tr>\n",
       "    <tr>\n",
       "      <th>346</th>\n",
       "      <td>fun featuring Janelle Monae</td>\n",
       "      <td>UR</td>\n",
       "      <td>1</td>\n",
       "      <td>0</td>\n",
       "      <td>1</td>\n",
       "      <td>0.000</td>\n",
       "    </tr>\n",
       "    <tr>\n",
       "      <th>347</th>\n",
       "      <td>kd lang</td>\n",
       "      <td>white</td>\n",
       "      <td>2</td>\n",
       "      <td>0</td>\n",
       "      <td>2</td>\n",
       "      <td>0.000</td>\n",
       "    </tr>\n",
       "    <tr>\n",
       "      <th>348</th>\n",
       "      <td>soundtrack</td>\n",
       "      <td>UR</td>\n",
       "      <td>1</td>\n",
       "      <td>0</td>\n",
       "      <td>1</td>\n",
       "      <td>0.000</td>\n",
       "    </tr>\n",
       "    <tr>\n",
       "      <th>349</th>\n",
       "      <td>soundtrack</td>\n",
       "      <td>white</td>\n",
       "      <td>1</td>\n",
       "      <td>0</td>\n",
       "      <td>1</td>\n",
       "      <td>0.000</td>\n",
       "    </tr>\n",
       "    <tr>\n",
       "      <th>350</th>\n",
       "      <td>the Weeknd</td>\n",
       "      <td>UR</td>\n",
       "      <td>2</td>\n",
       "      <td>0</td>\n",
       "      <td>2</td>\n",
       "      <td>0.000</td>\n",
       "    </tr>\n",
       "  </tbody>\n",
       "</table>\n",
       "<p>351 rows × 6 columns</p>\n",
       "</div>"
      ],
      "text/plain": [
       "status             cleaned_musician ethnicity  nominee  winner  total  chance\n",
       "0                           50 Cent        UR        1       0      1   0.000\n",
       "1                              Abba     white        3       0      3   0.000\n",
       "2                       Ace of Base     white        1       0      1   0.000\n",
       "3                             Adele     white        3       5      8   0.625\n",
       "4                    Alabama Shakes        UR        2       0      2   0.000\n",
       "..                              ...       ...      ...     ...    ...     ...\n",
       "346     fun featuring Janelle Monae        UR        1       0      1   0.000\n",
       "347                         kd lang     white        2       0      2   0.000\n",
       "348                      soundtrack        UR        1       0      1   0.000\n",
       "349                      soundtrack     white        1       0      1   0.000\n",
       "350                      the Weeknd        UR        2       0      2   0.000\n",
       "\n",
       "[351 rows x 6 columns]"
      ]
     },
     "execution_count": 71,
     "metadata": {},
     "output_type": "execute_result"
    }
   ],
   "source": [
    "# calculate chance of winning by artist\n",
    "musician_pivot = pd.pivot_table(df, values='id',\n",
    "                            index=['cleaned_musician','ethnicity'], \n",
    "                            columns='status', \n",
    "                            aggfunc='count',\n",
    "                            fill_value=0)\n",
    "\n",
    "musician_pivot['total'] = musician_pivot['nominee']+musician_pivot['winner']\n",
    "musician_pivot['chance'] = musician_pivot['winner']/musician_pivot['total']\n",
    "\n",
    "\n",
    "musician_pivot.reset_index(inplace=True)\n",
    "musician_pivot"
   ]
  },
  {
   "cell_type": "code",
   "execution_count": 108,
   "id": "f76756f5",
   "metadata": {
    "scrolled": true
   },
   "outputs": [
    {
     "data": {
      "text/plain": [
       "count    189.000000\n",
       "mean       0.173236\n",
       "std        0.332548\n",
       "min        0.000000\n",
       "25%        0.000000\n",
       "50%        0.000000\n",
       "75%        0.200000\n",
       "max        1.000000\n",
       "Name: chance, dtype: float64"
      ]
     },
     "execution_count": 108,
     "metadata": {},
     "output_type": "execute_result"
    }
   ],
   "source": [
    "# Summary of white nominees' chance of winning\n",
    "musician_pivot[musician_pivot['ethnicity'] == 'white'].chance.describe()"
   ]
  },
  {
   "cell_type": "code",
   "execution_count": 109,
   "id": "911e993d",
   "metadata": {},
   "outputs": [
    {
     "data": {
      "text/plain": [
       "count    162.000000\n",
       "mean       0.150309\n",
       "std        0.339663\n",
       "min        0.000000\n",
       "25%        0.000000\n",
       "50%        0.000000\n",
       "75%        0.000000\n",
       "max        1.000000\n",
       "Name: chance, dtype: float64"
      ]
     },
     "execution_count": 109,
     "metadata": {},
     "output_type": "execute_result"
    }
   ],
   "source": [
    "# Summary of non-white nominees' chance of winning\n",
    "musician_pivot[musician_pivot['ethnicity'] == 'UR'].chance.describe()"
   ]
  },
  {
   "cell_type": "code",
   "execution_count": 73,
   "id": "bf238208",
   "metadata": {},
   "outputs": [
    {
     "data": {
      "image/png": "[encoded data removed]"
     },
     "metadata": {},
     "output_type": "display_data"
    }
   ],
   "source": [
    "%%R -i musician_pivot\n",
    "# plot each musician's chance of winning across category, and their ethnicity\n",
    "ggplot(musician_pivot,aes(y=chance,x=cleaned_musician,color=ethnicity))+\n",
    "    geom_jitter()+\n",
    "    theme_minimal()"
   ]
  },
  {
   "cell_type": "code",
   "execution_count": 110,
   "id": "caea99b8",
   "metadata": {},
   "outputs": [
    {
     "data": {
      "image/png": "[encoded data removed]"
     },
     "metadata": {},
     "output_type": "display_data"
    }
   ],
   "source": [
    "%%R\n",
    "# white and non-white artist's chance of winning across category, faceted\n",
    "\n",
    "ggplot(musician_pivot\n",
    "       ,aes(y=chance,x=cleaned_musician))+\n",
    "    geom_jitter()+\n",
    "    theme_minimal()+\n",
    "    facet_wrap(~ethnicity)"
   ]
  },
  {
   "cell_type": "markdown",
   "id": "4be41bd7",
   "metadata": {},
   "source": [
    "### 2. Journalistic —> Statistical Inquiry\n",
    "\n",
    "- null hypothesis: There is no difference between white nominees and non-white nominees' chance of winning.\n",
    "- alternative hypothesis: White nominees on average stand higher chance of winning than non-white nominees.\n",
    "\n",
    "The statistical test I'm applying for my hypothesis is Chi-Square test and t test. "
   ]
  },
  {
   "cell_type": "code",
   "execution_count": 112,
   "id": "4c61f2b5",
   "metadata": {},
   "outputs": [
    {
     "name": "stdout",
     "output_type": "stream",
     "text": [
      "\n",
      "\tWelch Two Sample t-test\n",
      "\n",
      "data:  non_white$chance and white$chance\n",
      "t = -0.63656, df = 338.53, p-value = 0.5248\n",
      "alternative hypothesis: true difference in means is not equal to 0\n",
      "95 percent confidence interval:\n",
      " -0.09377470  0.04791932\n",
      "sample estimates:\n",
      "mean of x mean of y \n",
      "0.1503086 0.1732363 \n",
      "\n"
     ]
    }
   ],
   "source": [
    "%%R  -i musician_pivot\n",
    "non_white <- musician_pivot%>%filter(ethnicity == \"UR\")\n",
    "white <- musician_pivot%>%filter(ethnicity == \"white\")\n",
    "# T test individual artist's chance of winning \n",
    "t.test(non_white$chance, white$chance)"
   ]
  },
  {
   "cell_type": "code",
   "execution_count": 94,
   "id": "2c11de93",
   "metadata": {},
   "outputs": [
    {
     "name": "stdout",
     "output_type": "stream",
     "text": [
      "\n",
      "\tPearson's Chi-squared test\n",
      "\n",
      "data:  pivot_test$UR and pivot_test$white\n",
      "X-squared = 3, df = 2, p-value = 0.2231\n",
      "\n"
     ]
    }
   ],
   "source": [
    "%%R -i pivot_test\n",
    "# Chi Square test chance of winning across category\n",
    "chisq.test(pivot_test$UR, pivot_test$white, correct=FALSE)"
   ]
  },
  {
   "cell_type": "markdown",
   "id": "768b3cb9",
   "metadata": {},
   "source": [
    "#### Conclusion:\n",
    "- The p-values from both test results suggest are not statistically significant enough to reject my null hypothesis. \n",
    "- Simply by looking at the results, it is possible that the observed difference in chance of winning is a result of sole chance.\n",
    "- By looking at the summary stats, however, white nominees on average do stand a slightly higher chance of winning individually and across category.\n",
    "- Some caveats of my data: I do have a small smaple size (compared with all grammys nominations across all categories). \n",
    "- In addition, I did not separate artists for tracks that featured both white and non-white artists (e.g. \"Old Town Road\", a track by Lil Nas X-a black artist-featured Billy Ray Cyrus, who is white, is marked as \"UR\" in the dataset). The results might be different if I break down the artists on these tracks. \n",
    "\n",
    "\n",
    "I am also having trouble interperting p-values that are > 0.05. Does a larger-than-0.05 p-value mean that my hypothesis is false? Or does it suggest a possibility that the hypothesis might be true?"
   ]
  },
  {
   "cell_type": "markdown",
   "id": "cc6276f4",
   "metadata": {},
   "source": [
    "### 3. Statistical —> Journalistic Inquiry\n",
    "Reporting Qs that my exploratory plots raised:\n",
    "- Question relating to statistical test (Qs for statisticians): \n",
    "    - Am I running the appropriate statistical tests for my hypothesis? \n",
    "    - Are there any issues in the way the data is classified? \n",
    "    - Should I restructure my data or classify my data differently in order to represent the reality of grammys nomination's diversity with the dataset?\n",
    "    - What does the difference in the average chance of winning suggest? How should I interpret what I'm seeing here?\n",
    "- What is the nomination & voting process of the grammys like?\n",
    "- What sorts of criterias were used to determine which nominee wins the grammys? For instance, quantitative evalutions such as number of record sales and ranking on charts (like Billboard 100); or qualitative evaluations such as critic's opinion and creative value? \n",
    "- Were there past accusations relating to racial diversity and representation against the Grammys? What kind of claims did the accusers raised? \n",
    "- Why did the academy added number of nominees in each category in recent years?\n",
    "- Had the recording academy ever addressed problems regarding racial diversity in their nomination process/voting process? If so, did their acknowledgement and refomative actions have an effect on the racial demographic of nominees and winners?\n",
    "\n",
    "Next step:\n",
    "1. Contact statisticians that have worked with award nomination data to go over my dataset for possible improvement of data strcuture, as well as advice on the statistical tests used in my rough analysis. Potential source: the [Inclusion Institute at USC](https://assets.uscannenberg.org/docs/aii-inclusion-recording-studio-20200117.pdf).\n",
    "2. Reach out to journalists who have covered this topic to learn about their findings about racial diversity of the grammys.\n",
    "3. Reach out to advocacy groups and activists for diversity in the Recording Academy.\n",
    "4. Reach out to the recording academy for their detailed number of racial demographic of all their general members and voting members.\n",
    "\n",
    "*Appendix: My data studio project using this dataset: https://xinyitu.github.io/grammys/*"
   ]
  },
  {
   "cell_type": "code",
   "execution_count": null,
   "id": "d6b5c84b",
   "metadata": {},
   "outputs": [],
   "source": []
  }
 ],
 "metadata": {
  "kernelspec": {
   "display_name": "Python 3 (ipykernel)",
   "language": "python",
   "name": "python3"
  },
  "language_info": {
   "codemirror_mode": {
    "name": "ipython",
    "version": 3
   },
   "file_extension": ".py",
   "mimetype": "text/x-python",
   "name": "python",
   "nbconvert_exporter": "python",
   "pygments_lexer": "ipython3",
   "version": "3.11.0rc2"
  }
 },
 "nbformat": 4,
 "nbformat_minor": 5
}
