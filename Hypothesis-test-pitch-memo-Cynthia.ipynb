{
 "cells": [
  {
   "cell_type": "code",
   "execution_count": 2,
   "id": "6d3a46d1",
   "metadata": {},
   "outputs": [],
   "source": [
    "%load_ext rpy2.ipython\n",
    "%load_ext autoreload\n",
    "%autoreload 2\n",
    "\n",
    "%matplotlib inline  \n",
    "from matplotlib import rcParams\n",
    "rcParams['figure.figsize'] = (8, 8)\n",
    "\n",
    "import warnings\n",
    "from rpy2.rinterface import RRuntimeWarning\n",
    "warnings.filterwarnings(\"ignore\") # Ignore all warnings\n",
    "# warnings.filterwarnings(\"ignore\", category=RRuntimeWarning) # Show some warnings\n",
    "\n",
    "import pandas as pd\n",
    "import numpy as np\n",
    "import matplotlib.pyplot as plt\n",
    "from IPython.display import display, HTML"
   ]
  },
  {
   "cell_type": "code",
   "execution_count": 3,
   "id": "b2183e72",
   "metadata": {},
   "outputs": [
    {
     "data": {
      "application/javascript": "// Disable auto-scrolling\nIPython.OutputArea.prototype._should_scroll = function(lines) {\n    return false;\n}\n",
      "text/plain": [
       "<IPython.core.display.Javascript object>"
      ]
     },
     "metadata": {},
     "output_type": "display_data"
    }
   ],
   "source": [
    "%%javascript\n",
    "// Disable auto-scrolling\n",
    "IPython.OutputArea.prototype._should_scroll = function(lines) {\n",
    "    return false;\n",
    "}"
   ]
  },
  {
   "cell_type": "code",
   "execution_count": 4,
   "id": "762318a8",
   "metadata": {},
   "outputs": [
    {
     "name": "stderr",
     "output_type": "stream",
     "text": [
      "R[write to console]: Loading required package: tidyverse\n",
      "\n"
     ]
    },
    {
     "name": "stdout",
     "output_type": "stream",
     "text": [
      "── Attaching packages ─────────────────────────────────────── tidyverse 1.3.2 ──\n",
      "✔ ggplot2 3.4.1      ✔ purrr   0.3.5 \n",
      "✔ tibble  3.1.8      ✔ dplyr   1.0.10\n",
      "✔ tidyr   1.2.1      ✔ stringr 1.4.1 \n",
      "✔ readr   2.1.3      ✔ forcats 0.5.2 \n",
      "── Conflicts ────────────────────────────────────────── tidyverse_conflicts() ──\n",
      "✖ dplyr::filter() masks stats::filter()\n",
      "✖ dplyr::lag()    masks stats::lag()\n"
     ]
    },
    {
     "name": "stderr",
     "output_type": "stream",
     "text": [
      "R[write to console]: Loading required package: emojifont\n",
      "\n",
      "R[write to console]: Loading required package: ggrepel\n",
      "\n",
      "R[write to console]: Loading required package: ggtext\n",
      "\n",
      "R[write to console]: Loading required package: ggforce\n",
      "\n"
     ]
    }
   ],
   "source": [
    "%%R\n",
    "\n",
    "require('tidyverse')\n",
    "source('functions.R')"
   ]
  },
  {
   "cell_type": "markdown",
   "id": "ff6b56bd",
   "metadata": {},
   "source": [
    "### My Hypothesis Question: \n",
    "**Do white Grammys nominees stand a higher chance of winning than nominees of color?**\n"
   ]
  },
  {
   "cell_type": "code",
   "execution_count": 5,
   "id": "9f93b74a",
   "metadata": {
    "scrolled": true
   },
   "outputs": [
    {
     "data": {
      "text/html": [
       "<div>\n",
       "<style scoped>\n",
       "    .dataframe tbody tr th:only-of-type {\n",
       "        vertical-align: middle;\n",
       "    }\n",
       "\n",
       "    .dataframe tbody tr th {\n",
       "        vertical-align: top;\n",
       "    }\n",
       "\n",
       "    .dataframe thead th {\n",
       "        text-align: right;\n",
       "    }\n",
       "</style>\n",
       "<table border=\"1\" class=\"dataframe\">\n",
       "  <thead>\n",
       "    <tr style=\"text-align: right;\">\n",
       "      <th></th>\n",
       "      <th>id</th>\n",
       "      <th>year</th>\n",
       "      <th>work</th>\n",
       "      <th>category</th>\n",
       "      <th>status</th>\n",
       "      <th>cleaned_musician</th>\n",
       "      <th>ethnicity</th>\n",
       "      <th>status/ethnicity</th>\n",
       "      <th>total_percentage</th>\n",
       "    </tr>\n",
       "  </thead>\n",
       "  <tbody>\n",
       "    <tr>\n",
       "      <th>0</th>\n",
       "      <td>1</td>\n",
       "      <td>2022</td>\n",
       "      <td>We Are</td>\n",
       "      <td>album-of-the-year</td>\n",
       "      <td>winner</td>\n",
       "      <td>Jon Batiste</td>\n",
       "      <td>UR</td>\n",
       "      <td>UR winner</td>\n",
       "      <td>0.666667</td>\n",
       "    </tr>\n",
       "    <tr>\n",
       "      <th>1</th>\n",
       "      <td>2</td>\n",
       "      <td>2022</td>\n",
       "      <td>Love for Sale</td>\n",
       "      <td>album-of-the-year</td>\n",
       "      <td>nominee</td>\n",
       "      <td>Tony Bennett  Lady Gaga</td>\n",
       "      <td>white</td>\n",
       "      <td>white nominee</td>\n",
       "      <td>0.666667</td>\n",
       "    </tr>\n",
       "    <tr>\n",
       "      <th>2</th>\n",
       "      <td>3</td>\n",
       "      <td>2022</td>\n",
       "      <td>Justice</td>\n",
       "      <td>album-of-the-year</td>\n",
       "      <td>nominee</td>\n",
       "      <td>Justin Bieber</td>\n",
       "      <td>white</td>\n",
       "      <td>white nominee</td>\n",
       "      <td>0.666667</td>\n",
       "    </tr>\n",
       "    <tr>\n",
       "      <th>3</th>\n",
       "      <td>4</td>\n",
       "      <td>2022</td>\n",
       "      <td>Planet Her</td>\n",
       "      <td>album-of-the-year</td>\n",
       "      <td>nominee</td>\n",
       "      <td>Doja Cat</td>\n",
       "      <td>UR</td>\n",
       "      <td>UR nominee</td>\n",
       "      <td>0.666667</td>\n",
       "    </tr>\n",
       "    <tr>\n",
       "      <th>4</th>\n",
       "      <td>5</td>\n",
       "      <td>2022</td>\n",
       "      <td>Happier Than Ever</td>\n",
       "      <td>album-of-the-year</td>\n",
       "      <td>nominee</td>\n",
       "      <td>Billie Eilish</td>\n",
       "      <td>white</td>\n",
       "      <td>white nominee</td>\n",
       "      <td>0.666667</td>\n",
       "    </tr>\n",
       "  </tbody>\n",
       "</table>\n",
       "</div>"
      ],
      "text/plain": [
       "   id  year               work           category   status  \\\n",
       "0   1  2022             We Are  album-of-the-year   winner   \n",
       "1   2  2022      Love for Sale  album-of-the-year  nominee   \n",
       "2   3  2022            Justice  album-of-the-year  nominee   \n",
       "3   4  2022         Planet Her  album-of-the-year  nominee   \n",
       "4   5  2022  Happier Than Ever  album-of-the-year  nominee   \n",
       "\n",
       "          cleaned_musician ethnicity status/ethnicity  total_percentage  \n",
       "0              Jon Batiste        UR        UR winner          0.666667  \n",
       "1  Tony Bennett  Lady Gaga     white    white nominee          0.666667  \n",
       "2            Justin Bieber     white    white nominee          0.666667  \n",
       "3                 Doja Cat        UR       UR nominee          0.666667  \n",
       "4            Billie Eilish     white    white nominee          0.666667  "
      ]
     },
     "execution_count": 5,
     "metadata": {},
     "output_type": "execute_result"
    }
   ],
   "source": [
    "# Import data\n",
    "df = pd.read_csv(\"musicians-matched.csv\")\n",
    "df = df[['id','year','work','category','status','cleaned_musician','ethnicity','status/ethnicity','total_percentage']]\n",
    "df.head()"
   ]
  },
  {
   "cell_type": "markdown",
   "id": "88dbc077",
   "metadata": {},
   "source": [
    "### 1. Exploratory Analysis"
   ]
  },
  {
   "cell_type": "code",
   "execution_count": 40,
   "id": "5ed64d9f",
   "metadata": {
    "scrolled": true
   },
   "outputs": [
    {
     "data": {
      "text/html": [
       "<div>\n",
       "<style scoped>\n",
       "    .dataframe tbody tr th:only-of-type {\n",
       "        vertical-align: middle;\n",
       "    }\n",
       "\n",
       "    .dataframe tbody tr th {\n",
       "        vertical-align: top;\n",
       "    }\n",
       "\n",
       "    .dataframe thead th {\n",
       "        text-align: right;\n",
       "    }\n",
       "</style>\n",
       "<table border=\"1\" class=\"dataframe\">\n",
       "  <thead>\n",
       "    <tr style=\"text-align: right;\">\n",
       "      <th>status</th>\n",
       "      <th>category</th>\n",
       "      <th>ethnicity</th>\n",
       "      <th>nominee</th>\n",
       "      <th>winner</th>\n",
       "      <th>total</th>\n",
       "      <th>chance</th>\n",
       "    </tr>\n",
       "  </thead>\n",
       "  <tbody>\n",
       "    <tr>\n",
       "      <th>0</th>\n",
       "      <td>album-of-the-year</td>\n",
       "      <td>UR</td>\n",
       "      <td>63</td>\n",
       "      <td>11</td>\n",
       "      <td>74</td>\n",
       "      <td>0.148649</td>\n",
       "    </tr>\n",
       "    <tr>\n",
       "      <th>1</th>\n",
       "      <td>album-of-the-year</td>\n",
       "      <td>white</td>\n",
       "      <td>92</td>\n",
       "      <td>23</td>\n",
       "      <td>115</td>\n",
       "      <td>0.200000</td>\n",
       "    </tr>\n",
       "    <tr>\n",
       "      <th>2</th>\n",
       "      <td>best-new-artist</td>\n",
       "      <td>UR</td>\n",
       "      <td>70</td>\n",
       "      <td>13</td>\n",
       "      <td>83</td>\n",
       "      <td>0.156627</td>\n",
       "    </tr>\n",
       "    <tr>\n",
       "      <th>3</th>\n",
       "      <td>best-new-artist</td>\n",
       "      <td>white</td>\n",
       "      <td>85</td>\n",
       "      <td>21</td>\n",
       "      <td>106</td>\n",
       "      <td>0.198113</td>\n",
       "    </tr>\n",
       "    <tr>\n",
       "      <th>4</th>\n",
       "      <td>record-of-the-year</td>\n",
       "      <td>UR</td>\n",
       "      <td>79</td>\n",
       "      <td>11</td>\n",
       "      <td>90</td>\n",
       "      <td>0.122222</td>\n",
       "    </tr>\n",
       "    <tr>\n",
       "      <th>5</th>\n",
       "      <td>record-of-the-year</td>\n",
       "      <td>white</td>\n",
       "      <td>77</td>\n",
       "      <td>23</td>\n",
       "      <td>100</td>\n",
       "      <td>0.230000</td>\n",
       "    </tr>\n",
       "  </tbody>\n",
       "</table>\n",
       "</div>"
      ],
      "text/plain": [
       "status            category ethnicity  nominee  winner  total    chance\n",
       "0        album-of-the-year        UR       63      11     74  0.148649\n",
       "1        album-of-the-year     white       92      23    115  0.200000\n",
       "2          best-new-artist        UR       70      13     83  0.156627\n",
       "3          best-new-artist     white       85      21    106  0.198113\n",
       "4       record-of-the-year        UR       79      11     90  0.122222\n",
       "5       record-of-the-year     white       77      23    100  0.230000"
      ]
     },
     "execution_count": 40,
     "metadata": {},
     "output_type": "execute_result"
    }
   ],
   "source": [
    "# a pivot table to lookup chance of winning by category\n",
    "\n",
    "pivot = pd.pivot_table(df, values='id', \n",
    "                            index=['category','ethnicity'], \n",
    "                            columns='status', \n",
    "                            aggfunc='count',\n",
    "                            fill_value=0)\n",
    "\n",
    "pivot['total'] = pivot['nominee']+pivot['winner']\n",
    "pivot['chance'] = pivot['winner']/pivot['total']\n",
    "\n",
    "pivot.reset_index(inplace=True)\n",
    "pivot"
   ]
  },
  {
   "cell_type": "code",
   "execution_count": 38,
   "id": "093242ff",
   "metadata": {},
   "outputs": [
    {
     "data": {
      "text/html": [
       "<div>\n",
       "<style scoped>\n",
       "    .dataframe tbody tr th:only-of-type {\n",
       "        vertical-align: middle;\n",
       "    }\n",
       "\n",
       "    .dataframe tbody tr th {\n",
       "        vertical-align: top;\n",
       "    }\n",
       "\n",
       "    .dataframe thead th {\n",
       "        text-align: right;\n",
       "    }\n",
       "</style>\n",
       "<table border=\"1\" class=\"dataframe\">\n",
       "  <thead>\n",
       "    <tr style=\"text-align: right;\">\n",
       "      <th></th>\n",
       "      <th>category</th>\n",
       "      <th>UR</th>\n",
       "      <th>white</th>\n",
       "    </tr>\n",
       "  </thead>\n",
       "  <tbody>\n",
       "    <tr>\n",
       "      <th>0</th>\n",
       "      <td>album-of-the-year</td>\n",
       "      <td>0.15</td>\n",
       "      <td>0.20</td>\n",
       "    </tr>\n",
       "    <tr>\n",
       "      <th>1</th>\n",
       "      <td>best-new-artist</td>\n",
       "      <td>0.16</td>\n",
       "      <td>0.20</td>\n",
       "    </tr>\n",
       "    <tr>\n",
       "      <th>2</th>\n",
       "      <td>record-of-the-year</td>\n",
       "      <td>0.12</td>\n",
       "      <td>0.23</td>\n",
       "    </tr>\n",
       "  </tbody>\n",
       "</table>\n",
       "</div>"
      ],
      "text/plain": [
       "             category    UR  white\n",
       "0   album-of-the-year  0.15   0.20\n",
       "1     best-new-artist  0.16   0.20\n",
       "2  record-of-the-year  0.12   0.23"
      ]
     },
     "execution_count": 38,
     "metadata": {},
     "output_type": "execute_result"
    }
   ],
   "source": [
    "data = [['album-of-the-year',0.15,0.2],['best-new-artist',0.16,0.2],['record-of-the-year',0.12,0.23]]\n",
    "\n",
    "pivot_test = pd.DataFrame(data, columns=['category','UR','white'])\n",
    "pivot_test"
   ]
  },
  {
   "attachments": {},
   "cell_type": "markdown",
   "id": "4be41bd7",
   "metadata": {},
   "source": [
    "### 2. Journalistic —> Statistical Inquiry\n",
    "\n",
    "- null hypothesis: There is no difference between white nominees and non-white nominees' chance of winning.\n",
    "- alternative hypothesis: White nominees on average stand higher chance of winning than non-white nominees.\n",
    "\n",
    "The statistical test I'm applying for my hypothesis is Chi-Square test."
   ]
  },
  {
   "cell_type": "code",
   "execution_count": 45,
   "id": "2c11de93",
   "metadata": {},
   "outputs": [
    {
     "name": "stdout",
     "output_type": "stream",
     "text": [
      "         \n",
      "           UR white\n",
      "  nominee 212   254\n",
      "  winner   35    67\n",
      "\n",
      "\tPearson's Chi-squared test\n",
      "\n",
      "data:  to_test\n",
      "X-squared = 4.256, df = 1, p-value = 0.03911\n",
      "\n"
     ]
    }
   ],
   "source": [
    "%%R -i df\n",
    "# Chi Square test chance of winning across category\n",
    "to_test <- table(df$status, df$ethnicity)\n",
    "print(to_test)\n",
    "chisq.test(to_test, correct=FALSE)"
   ]
  },
  {
   "cell_type": "code",
   "execution_count": 32,
   "id": "95fb749c",
   "metadata": {},
   "outputs": [
    {
     "name": "stdout",
     "output_type": "stream",
     "text": [
      "         \n",
      "          UR white\n",
      "  nominee 63    92\n",
      "  winner  11    23\n",
      "\n",
      "\tPearson's Chi-squared test\n",
      "\n",
      "data:  album_test\n",
      "X-squared = 0.80479, df = 1, p-value = 0.3697\n",
      "\n"
     ]
    }
   ],
   "source": [
    "%%R -i df\n",
    "# Chi Square test chance of winning of each category\n",
    "album_df <- df%>%filter(category==\"album-of-the-year\")\n",
    "album_test <- table(album_df$status, album_df$ethnicity)\n",
    "print(album_test)\n",
    "chisq.test(album_test, correct=FALSE)"
   ]
  },
  {
   "cell_type": "code",
   "execution_count": 34,
   "id": "76690de3",
   "metadata": {},
   "outputs": [
    {
     "name": "stdout",
     "output_type": "stream",
     "text": [
      "         \n",
      "          UR white\n",
      "  nominee 79    77\n",
      "  winner  11    23\n",
      "\n",
      "\tPearson's Chi-squared test\n",
      "\n",
      "data:  record_test\n",
      "X-squared = 3.745, df = 1, p-value = 0.05297\n",
      "\n"
     ]
    }
   ],
   "source": [
    "%%R -i df\n",
    "# Chi Square test chance of winning of each category\n",
    "record_df <- df%>%filter(category==\"record-of-the-year\")\n",
    "record_test <- table(record_df$status, record_df$ethnicity)\n",
    "print(record_test)\n",
    "chisq.test(record_test, correct=FALSE)"
   ]
  },
  {
   "cell_type": "code",
   "execution_count": 35,
   "id": "6b6b153c",
   "metadata": {},
   "outputs": [
    {
     "name": "stdout",
     "output_type": "stream",
     "text": [
      "         \n",
      "          UR white\n",
      "  nominee 70    85\n",
      "  winner  13    21\n",
      "\n",
      "\tPearson's Chi-squared test\n",
      "\n",
      "data:  new_test\n",
      "X-squared = 0.54307, df = 1, p-value = 0.4612\n",
      "\n"
     ]
    }
   ],
   "source": [
    "%%R -i df\n",
    "# Chi Square test chance of winning of each category\n",
    "new_df <- df%>%filter(category==\"best-new-artist\")\n",
    "new_test <- table(new_df$status, new_df$ethnicity)\n",
    "print(new_test)\n",
    "chisq.test(new_test, correct=FALSE)"
   ]
  },
  {
   "cell_type": "markdown",
   "id": "768b3cb9",
   "metadata": {},
   "source": [
    "#### Conclusion:\n",
    "- The p-values from both test results suggest are not statistically significant enough to reject my null hypothesis. \n",
    "- Simply by looking at the results, it is possible that the observed difference in chance of winning is a result of sole chance.\n",
    "- By looking at the summary stats, however, white nominees on average do stand a slightly higher chance of winning individually and across category.\n",
    "- Some caveats of my data: I do have a small smaple size (compared with all grammys nominations across all categories). \n",
    "- In addition, I did not separate artists for tracks that featured both white and non-white artists (e.g. \"Old Town Road\", a track by Lil Nas X-a black artist-featured Billy Ray Cyrus, who is white, is marked as \"UR\" in the dataset). The results might be different if I break down the artists on these tracks. \n",
    "\n",
    "\n",
    "I am also having trouble interperting p-values that are > 0.05. Does a larger-than-0.05 p-value mean that my hypothesis is false? Or does it suggest a possibility that the hypothesis might be true?"
   ]
  },
  {
   "attachments": {},
   "cell_type": "markdown",
   "id": "cc6276f4",
   "metadata": {},
   "source": [
    "### 3. Statistical —> Journalistic Inquiry\n",
    "Reporting Qs that my exploratory plots raised:\n",
    "- Question relating to statistical test (Qs for statisticians): \n",
    "    - Am I running the appropriate statistical tests for my hypothesis? \n",
    "    - Are there any issues in the way the ethnicity variable is classified? \n",
    "    - Should I restructure my data or classify my data differently in order to represent the reality of grammys nomination's diversity with the dataset?\n",
    "\n",
    "- Why is the percentage of winning lower for Record of the Year category? What about other award categories?\n",
    "- What is the nomination & voting process of the grammys like?\n",
    "- What sorts of criterias were used to determine which nominee wins the grammys? For instance, quantitative evalutions such as number of record sales and ranking on charts (like Billboard 100); or qualitative evaluations such as critic's opinion and creative value? \n",
    "- Were there past accusations relating to racial diversity and representation against the Grammys? What kind of claims did the accusers raised? \n",
    "- Why did the academy added number of nominees in each category in recent years?\n",
    "- Had the recording academy ever addressed problems regarding racial diversity in their nomination process/voting process? If so, did their acknowledgement and refomative actions have an effect on the racial demographic of nominees and winners?\n",
    "\n",
    "Next step:\n",
    "1. Contact statisticians that have worked with award nomination data to go over my dataset for possible improvement of data strcuture, as well as advice on the statistical tests used in my rough analysis. Potential source: the [Inclusion Institute at USC](https://assets.uscannenberg.org/docs/aii-inclusion-recording-studio-20200117.pdf).\n",
    "2. Reach out to journalists who have covered this topic to learn about their findings about racial diversity of the grammys.\n",
    "3. Reach out to advocacy groups and activists for diversity in the Recording Academy.\n",
    "4. Reach out to the recording academy for their detailed number of racial demographic of all their general members and voting members.\n",
    "\n",
    "*Appendix: My data studio project using this dataset: https://xinyitu.github.io/grammys/*"
   ]
  },
  {
   "cell_type": "code",
   "execution_count": null,
   "id": "d6b5c84b",
   "metadata": {},
   "outputs": [],
   "source": []
  }
 ],
 "metadata": {
  "kernelspec": {
   "display_name": "Python 3 (ipykernel)",
   "language": "python",
   "name": "python3"
  },
  "language_info": {
   "codemirror_mode": {
    "name": "ipython",
    "version": 3
   },
   "file_extension": ".py",
   "mimetype": "text/x-python",
   "name": "python",
   "nbconvert_exporter": "python",
   "pygments_lexer": "ipython3",
   "version": "3.11.0rc2"
  }
 },
 "nbformat": 4,
 "nbformat_minor": 5
}
